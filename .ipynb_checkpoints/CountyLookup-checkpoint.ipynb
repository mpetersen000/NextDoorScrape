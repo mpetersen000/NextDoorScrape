{
 "cells": [
  {
   "cell_type": "code",
   "execution_count": 1,
   "metadata": {},
   "outputs": [],
   "source": [
    "import nextdoor_scraping\n",
    "import pandas as pd\n"
   ]
  },
  {
   "cell_type": "code",
   "execution_count": 3,
   "metadata": {},
   "outputs": [
    {
     "name": "stdout",
     "output_type": "stream",
     "text": [
      "True     1037\n",
      "False     127\n",
      "Name: City, dtype: int64\n"
     ]
    }
   ],
   "source": [
    "    df_cities = pd.read_csv(nextdoor_scraping.CITIES_FILENAME)\n",
    "    df_counties = pd.read_csv(nextdoor_scraping.COUNTY_FILENAME)\n",
    "\n",
    "    print(df_cities[\"City\"].isin(df_counties['city_ascii']).value_counts())"
   ]
  },
  {
   "cell_type": "code",
   "execution_count": 6,
   "metadata": {},
   "outputs": [
    {
     "data": {
      "text/plain": [
       "Ranchita                    1\n",
       "Mc Farland                  1\n",
       "Mi Wuk Village              1\n",
       "Canyon Country              1\n",
       "Termo                       1\n",
       "Marina Del Rey              1\n",
       "Porter Ranch                1\n",
       "Witter Springs              1\n",
       "Travis Afb                  1\n",
       "Miramonte                   1\n",
       "Lotus                       1\n",
       "Sherman Oaks                1\n",
       "Studio City                 1\n",
       "Olympic Valley              1\n",
       "Stevenson Ranch             1\n",
       "City Of Industry            1\n",
       "Rumsey                      1\n",
       "Zamora                      1\n",
       "Cardiff By The Sea          1\n",
       "Sylmar                      1\n",
       "Sunland                     1\n",
       "Port Hueneme Cbc Base       1\n",
       "Tarzana                     1\n",
       "Angelus Oaks                1\n",
       "Newbury Park                1\n",
       "Broadmoor Vlg               1\n",
       "Tujunga                     1\n",
       "Echo Lake                   1\n",
       "Kings Canyon National Pk    1\n",
       "Earp                        1\n",
       "                           ..\n",
       "Lemon Cove                  1\n",
       "Reseda                      1\n",
       "Santa Rosa Valley           1\n",
       "Briones                     1\n",
       "Branscomb                   1\n",
       "Scott Bar                   1\n",
       "Zenia                       1\n",
       "Santa Ysabel                1\n",
       "Stewarts Point              1\n",
       "Corona Del Mar              1\n",
       "Ravendale                   1\n",
       "Swall Meadows               1\n",
       "Sloughhouse                 1\n",
       "Rescue                      1\n",
       "Rancho Dominguez            1\n",
       "Rough And Ready             1\n",
       "Mt Madonna                  1\n",
       "Mount Hamilton              1\n",
       "Valyermo                    1\n",
       "Forest Falls                1\n",
       "Sheep Ranch                 1\n",
       "Birds Lndg                  1\n",
       "La Jolla                    1\n",
       "Jacumba                     1\n",
       "Arleta                      1\n",
       "Prather                     1\n",
       "Littleriver                 1\n",
       "Beale Afb                   1\n",
       "Sequoia National Park       1\n",
       "Seiad Valley                1\n",
       "Name: City, Length: 127, dtype: int64"
      ]
     },
     "execution_count": 6,
     "metadata": {},
     "output_type": "execute_result"
    }
   ],
   "source": [
    "df_notin = df_cities[~df_cities[\"City\"].isin(df_counties['city_ascii'])]\n",
    "df_notin[\"City\"].value_counts()"
   ]
  },
  {
   "cell_type": "code",
   "execution_count": null,
   "metadata": {},
   "outputs": [],
   "source": []
  }
 ],
 "metadata": {
  "kernelspec": {
   "display_name": "Python 3",
   "language": "python",
   "name": "python3"
  },
  "language_info": {
   "codemirror_mode": {
    "name": "ipython",
    "version": 3
   },
   "file_extension": ".py",
   "mimetype": "text/x-python",
   "name": "python",
   "nbconvert_exporter": "python",
   "pygments_lexer": "ipython3",
   "version": "3.6.7"
  }
 },
 "nbformat": 4,
 "nbformat_minor": 2
}
